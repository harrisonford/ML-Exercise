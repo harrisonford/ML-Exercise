{
 "cells": [
  {
   "cell_type": "markdown",
   "metadata": {
    "collapsed": true,
    "pycharm": {
     "name": "#%% md\n"
    }
   },
   "source": [
    "# CNN Example\n",
    "What is CNN goes here."
   ]
  },
  {
   "cell_type": "code",
   "execution_count": 5,
   "outputs": [],
   "source": [
    "import numpy as np\n",
    "import matplotlib.pyplot as plt\n",
    "import seaborn as sb"
   ],
   "metadata": {
    "collapsed": false,
    "pycharm": {
     "name": "#%%\n"
    }
   }
  },
  {
   "cell_type": "code",
   "execution_count": 10,
   "outputs": [
    {
     "data": {
      "text/plain": "<Figure size 432x288 with 1 Axes>",
      "image/png": "[encoded data removed]"
     },
     "metadata": {
      "needs_background": "light"
     },
     "output_type": "display_data"
    }
   ],
   "source": [
    "# trying out an activation function\n",
    "def sigmoid(x):\n",
    "    return 1/(1+np.exp(-x))\n",
    "\n",
    "N = 10\n",
    "values = np.linspace(-6, 6, N)\n",
    "output = [sigmoid(val) for val in values]\n",
    "sb.lineplot(x=values, y=output)\n",
    "plt.show()"
   ],
   "metadata": {
    "collapsed": false,
    "pycharm": {
     "name": "#%%\n"
    }
   }
  },
  {
   "cell_type": "code",
   "execution_count": null,
   "outputs": [],
   "source": [
    "# node computing\n",
    "# when forward the node with the best activation wins\n",
    "def forward_propagation(inputs, weights):\n",
    "    res = sigmoid(np.dot(inputs, weights.T))\n",
    "    return np.argmax(res)\n",
    "\n",
    "def back_prop(layer, max_index, target, learning_rate):\n",
    "    layer2 = layer\n",
    "    layer2[max_index] = learning_rate*(target - layer[max_index])\n",
    "    return layer2\n",
    "\n",
    "\n",
    "# for now we code for Input - Competitive layer - output\n",
    "def train_network(X, T, W, iterations=100, learning_rate=0.01):\n",
    "    _W = W\n",
    "    for i in range(iterations):\n",
    "        for j in range(X.shape[0]):\n",
    "            max_index = forward_propagation(X[j, :], W)\n",
    "            _W = back_prop(W, max_index, T[j], learning_rate=learning_rate)\n",
    "    return _W"
   ],
   "metadata": {
    "collapsed": false,
    "pycharm": {
     "name": "#%%\n"
    }
   }
  }
 ],
 "metadata": {
  "kernelspec": {
   "display_name": "Python 3",
   "language": "python",
   "name": "python3"
  },
  "language_info": {
   "codemirror_mode": {
    "name": "ipython",
    "version": 2
   },
   "file_extension": ".py",
   "mimetype": "text/x-python",
   "name": "python",
   "nbconvert_exporter": "python",
   "pygments_lexer": "ipython2",
   "version": "2.7.6"
  }
 },
 "nbformat": 4,
 "nbformat_minor": 0
}